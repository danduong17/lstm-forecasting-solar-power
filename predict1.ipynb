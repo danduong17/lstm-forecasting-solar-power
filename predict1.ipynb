{
 "cells": [
  {
   "cell_type": "code",
   "execution_count": 1,
   "metadata": {},
   "outputs": [
    {
     "name": "stdout",
     "output_type": "stream",
     "text": [
      "Num GPUs Available:  1\n"
     ]
    }
   ],
   "source": [
    "import numpy as np\n",
    "import matplotlib.pyplot as plt\n",
    "import pandas as pd\n",
    "import tensorflow as tf\n",
    "from sklearn.preprocessing import MinMaxScaler\n",
    "\n",
    "print(\"Num GPUs Available: \", len(tf.config.list_physical_devices(\"GPU\")))\n",
    "# fix random seed for reproducibility\n",
    "tf.random.set_seed(8)"
   ]
  },
  {
   "cell_type": "code",
   "execution_count": 2,
   "metadata": {},
   "outputs": [],
   "source": [
    "# Hyperparameter\n",
    "TRAIN_TEST_RATIO = 0.8\n",
    "TIME_STEP = 8\n",
    "MODEL_TYPE = \"CNN_LSTM\"\n",
    "EPOCH_SIZE = 200\n",
    "BATCH_SIZE = 16 \n",
    "MODEL_JSON = {}\n",
    "def to_string():\n",
    "    print_list = [\n",
    "        f\"Time step: {TIME_STEP}\",\n",
    "        f\"Ratio: {TRAIN_TEST_RATIO}\",\n",
    "        f\"Model type: {MODEL_TYPE}\",\n",
    "        f\"Epoch size: {EPOCH_SIZE}\",\n",
    "        f\"Batch size: {BATCH_SIZE}\",\n",
    "        f\"Model json: {MODEL_JSON}\",\n",
    "    ]\n",
    "    return \"\\n\".join(print_list)\n",
    "VERSION = 17\n",
    "model = tf.keras.models.load_model(f\"./Model/{VERSION}\")"
   ]
  },
  {
   "cell_type": "code",
   "execution_count": 3,
   "metadata": {},
   "outputs": [
    {
     "name": "stdout",
     "output_type": "stream",
     "text": [
      "15\n",
      "[10166   312   823  1184  1394  1660  1459  1064   750   511   375   255\n",
      "   172   107     8]\n",
      "[ 0.      2.1432  4.2864  6.4296  8.5728 10.716  12.8592 15.0024 17.1456\n",
      " 19.2888 21.432  23.5752 25.7184 27.8616 30.0048 32.148 ]\n",
      "[5.02272727e-01 1.54150198e-02 4.06620553e-02 5.84980237e-02\n",
      " 6.88735178e-02 8.20158103e-02 7.20849802e-02 5.25691700e-02\n",
      " 3.70553360e-02 2.52470356e-02 1.85276680e-02 1.25988142e-02\n",
      " 8.49802372e-03 5.28656126e-03 3.95256917e-04]\n"
     ]
    },
    {
     "data": {
      "image/png": "[encoded data removed]",
      "text/plain": [
       "<Figure size 640x480 with 1 Axes>"
      ]
     },
     "metadata": {},
     "output_type": "display_data"
    }
   ],
   "source": [
    "dataframe20 = pd.read_excel('Data/Data_1h/Data_1h/Solar_System_2.xlsx', sheet_name=\"2020\", header=1, usecols=[11])\n",
    "dataframe21 = pd.read_excel('Data/Data_1h/Data_1h/Solar_System_2.xlsx', sheet_name=\"2021\", header=1, usecols=[11])\n",
    "dataframe22 = pd.read_excel('Data/Data_1h/Data_1h/Solar_System_2.xlsx', sheet_name=\"2022\", header=1, usecols=[11])\n",
    "dataframe23 = pd.read_excel('Data/Data_1h/Data_1h/Solar_System_2.xlsx', sheet_name=\"2023\", header=1, usecols=[11])\n",
    "dataset = dataframe20.values\n",
    "dataset = np.append(dataset, dataframe21.values)\n",
    "dataset = np.append(dataset, dataframe22.values)\n",
    "dataset = np.append(dataset, dataframe23.values)\n",
    "dataset = dataset.astype('float64')\n",
    "dataset = np.reshape(dataset, (-1, 1))\n",
    "\n",
    "#Preprocessing\n",
    "dataset[dataset<0] = 0\n",
    "dataset[np.isnan(dataset)] = 0\n",
    "bins_size = int(1 + 3.3*np.log10(len(dataset)))\n",
    "print(bins_size)\n",
    "counts, bin_dataset = np.histogram(dataset, bins=bins_size, density=True)\n",
    "counts_number, bin_dataset = np.histogram(dataset, bins=bins_size)\n",
    "rel_freq =counts_number/len(dataset)\n",
    "print(counts_number)\n",
    "print(bin_dataset)\n",
    "print(rel_freq)\n",
    "plt.plot()\n",
    "plt.plot(bin_dataset[1:],counts,label=\"actual_pdf\")\n",
    "# plt.clf()\n",
    "# plt.figure(figsize=(100,60))\n",
    "# plt.rcParams.update({'font.size': 100})\n",
    "# plt.plot(dataset)\n",
    "plt.show()"
   ]
  },
  {
   "attachments": {},
   "cell_type": "markdown",
   "metadata": {},
   "source": [
    "Normalize the dataset, when working with sigmoid or tanh function as activation function, normalize data to range 0, 1"
   ]
  },
  {
   "cell_type": "code",
   "execution_count": 4,
   "metadata": {},
   "outputs": [],
   "source": [
    "scaler = MinMaxScaler(feature_range=(0, 1))\n",
    "dataset = scaler.fit_transform(dataset)\n",
    "def create_dataset(dataset, look_back=1):\n",
    "\tdataX, dataY = [], []\n",
    "\tfor i in range(len(dataset)-look_back-1):\n",
    "\t\ta = dataset[i:(i+look_back), 0]\n",
    "\t\tdataX.append(a)\n",
    "\t\tdataY.append(dataset[i + look_back, 0])\n",
    "\treturn np.array(dataX), np.array(dataY)"
   ]
  },
  {
   "cell_type": "code",
   "execution_count": 5,
   "metadata": {},
   "outputs": [
    {
     "name": "stdout",
     "output_type": "stream",
     "text": [
      "WARNING:tensorflow:Model was constructed with shape (None, 10, 1) for input KerasTensor(type_spec=TensorSpec(shape=(None, 10, 1), dtype=tf.float32, name='conv1d_6_input'), name='conv1d_6_input', description=\"created by layer 'conv1d_6_input'\"), but it was called on an input with incompatible shape (None, 1, 1).\n"
     ]
    },
    {
     "ename": "ValueError",
     "evalue": "in user code:\n\n    File \"d:\\Bon\\Programing\\Miniconda\\envs\\tf\\lib\\site-packages\\keras\\engine\\training.py\", line 2041, in predict_function  *\n        return step_function(self, iterator)\n    File \"d:\\Bon\\Programing\\Miniconda\\envs\\tf\\lib\\site-packages\\keras\\engine\\training.py\", line 2027, in step_function  **\n        outputs = model.distribute_strategy.run(run_step, args=(data,))\n    File \"d:\\Bon\\Programing\\Miniconda\\envs\\tf\\lib\\site-packages\\keras\\engine\\training.py\", line 2015, in run_step  **\n        outputs = model.predict_step(data)\n    File \"d:\\Bon\\Programing\\Miniconda\\envs\\tf\\lib\\site-packages\\keras\\engine\\training.py\", line 1983, in predict_step\n        return self(x, training=False)\n    File \"d:\\Bon\\Programing\\Miniconda\\envs\\tf\\lib\\site-packages\\keras\\utils\\traceback_utils.py\", line 70, in error_handler\n        raise e.with_traceback(filtered_tb) from None\n\n    ValueError: Exception encountered when calling layer \"conv1d_6\" \"                 f\"(type Conv1D).\n    \n    Negative dimension size caused by subtracting 3 from 1 for '{{node sequential_5/conv1d_6/Conv1D}} = Conv2D[T=DT_FLOAT, data_format=\"NHWC\", dilations=[1, 1, 1, 1], explicit_paddings=[], padding=\"VALID\", strides=[1, 1, 1, 1], use_cudnn_on_gpu=true](sequential_5/conv1d_6/Conv1D/ExpandDims, sequential_5/conv1d_6/Conv1D/ExpandDims_1)' with input shapes: [?,1,1,1], [1,3,1,32].\n    \n    Call arguments received by layer \"conv1d_6\" \"                 f\"(type Conv1D):\n      • inputs=tf.Tensor(shape=(None, 1, 1), dtype=float32)\n",
     "output_type": "error",
     "traceback": [
      "\u001b[1;31m---------------------------------------------------------------------------\u001b[0m",
      "\u001b[1;31mValueError\u001b[0m                                Traceback (most recent call last)",
      "Cell \u001b[1;32mIn[5], line 3\u001b[0m\n\u001b[0;32m      1\u001b[0m model \u001b[39m=\u001b[39m tf\u001b[39m.\u001b[39mkeras\u001b[39m.\u001b[39mmodels\u001b[39m.\u001b[39mload_model(\u001b[39mf\u001b[39m\u001b[39m\"\u001b[39m\u001b[39m./Model/\u001b[39m\u001b[39m{\u001b[39;00mVERSION\u001b[39m}\u001b[39;00m\u001b[39m\"\u001b[39m)\n\u001b[0;32m      2\u001b[0m datasetX, datasetY \u001b[39m=\u001b[39m create_dataset(dataset)\n\u001b[1;32m----> 3\u001b[0m result \u001b[39m=\u001b[39m model\u001b[39m.\u001b[39;49mpredict(dataset)\n\u001b[0;32m      4\u001b[0m plt\u001b[39m.\u001b[39mplot(dataset)\n\u001b[0;32m      5\u001b[0m plt\u001b[39m.\u001b[39mplot(result)\n",
      "File \u001b[1;32md:\\Bon\\Programing\\Miniconda\\envs\\tf\\lib\\site-packages\\keras\\utils\\traceback_utils.py:70\u001b[0m, in \u001b[0;36mfilter_traceback.<locals>.error_handler\u001b[1;34m(*args, **kwargs)\u001b[0m\n\u001b[0;32m     67\u001b[0m     filtered_tb \u001b[39m=\u001b[39m _process_traceback_frames(e\u001b[39m.\u001b[39m__traceback__)\n\u001b[0;32m     68\u001b[0m     \u001b[39m# To get the full stack trace, call:\u001b[39;00m\n\u001b[0;32m     69\u001b[0m     \u001b[39m# `tf.debugging.disable_traceback_filtering()`\u001b[39;00m\n\u001b[1;32m---> 70\u001b[0m     \u001b[39mraise\u001b[39;00m e\u001b[39m.\u001b[39mwith_traceback(filtered_tb) \u001b[39mfrom\u001b[39;00m \u001b[39mNone\u001b[39;00m\n\u001b[0;32m     71\u001b[0m \u001b[39mfinally\u001b[39;00m:\n\u001b[0;32m     72\u001b[0m     \u001b[39mdel\u001b[39;00m filtered_tb\n",
      "File \u001b[1;32m~\\AppData\\Local\\Temp\\__autograph_generated_fileyz61xi4r.py:15\u001b[0m, in \u001b[0;36mouter_factory.<locals>.inner_factory.<locals>.tf__predict_function\u001b[1;34m(iterator)\u001b[0m\n\u001b[0;32m     13\u001b[0m \u001b[39mtry\u001b[39;00m:\n\u001b[0;32m     14\u001b[0m     do_return \u001b[39m=\u001b[39m \u001b[39mTrue\u001b[39;00m\n\u001b[1;32m---> 15\u001b[0m     retval_ \u001b[39m=\u001b[39m ag__\u001b[39m.\u001b[39mconverted_call(ag__\u001b[39m.\u001b[39mld(step_function), (ag__\u001b[39m.\u001b[39mld(\u001b[39mself\u001b[39m), ag__\u001b[39m.\u001b[39mld(iterator)), \u001b[39mNone\u001b[39;00m, fscope)\n\u001b[0;32m     16\u001b[0m \u001b[39mexcept\u001b[39;00m:\n\u001b[0;32m     17\u001b[0m     do_return \u001b[39m=\u001b[39m \u001b[39mFalse\u001b[39;00m\n",
      "\u001b[1;31mValueError\u001b[0m: in user code:\n\n    File \"d:\\Bon\\Programing\\Miniconda\\envs\\tf\\lib\\site-packages\\keras\\engine\\training.py\", line 2041, in predict_function  *\n        return step_function(self, iterator)\n    File \"d:\\Bon\\Programing\\Miniconda\\envs\\tf\\lib\\site-packages\\keras\\engine\\training.py\", line 2027, in step_function  **\n        outputs = model.distribute_strategy.run(run_step, args=(data,))\n    File \"d:\\Bon\\Programing\\Miniconda\\envs\\tf\\lib\\site-packages\\keras\\engine\\training.py\", line 2015, in run_step  **\n        outputs = model.predict_step(data)\n    File \"d:\\Bon\\Programing\\Miniconda\\envs\\tf\\lib\\site-packages\\keras\\engine\\training.py\", line 1983, in predict_step\n        return self(x, training=False)\n    File \"d:\\Bon\\Programing\\Miniconda\\envs\\tf\\lib\\site-packages\\keras\\utils\\traceback_utils.py\", line 70, in error_handler\n        raise e.with_traceback(filtered_tb) from None\n\n    ValueError: Exception encountered when calling layer \"conv1d_6\" \"                 f\"(type Conv1D).\n    \n    Negative dimension size caused by subtracting 3 from 1 for '{{node sequential_5/conv1d_6/Conv1D}} = Conv2D[T=DT_FLOAT, data_format=\"NHWC\", dilations=[1, 1, 1, 1], explicit_paddings=[], padding=\"VALID\", strides=[1, 1, 1, 1], use_cudnn_on_gpu=true](sequential_5/conv1d_6/Conv1D/ExpandDims, sequential_5/conv1d_6/Conv1D/ExpandDims_1)' with input shapes: [?,1,1,1], [1,3,1,32].\n    \n    Call arguments received by layer \"conv1d_6\" \"                 f\"(type Conv1D):\n      • inputs=tf.Tensor(shape=(None, 1, 1), dtype=float32)\n"
     ]
    }
   ],
   "source": [
    "model = tf.keras.models.load_model(f\"./Model/{VERSION}\")\n",
    "datasetX, datasetY = create_dataset(dataset)\n",
    "result = model.predict(dataset)\n",
    "plt.plot(dataset)\n",
    "plt.plot(result)\n"
   ]
  }
 ],
 "metadata": {
  "kernelspec": {
   "display_name": "venv",
   "language": "python",
   "name": "python3"
  },
  "language_info": {
   "codemirror_mode": {
    "name": "ipython",
    "version": 3
   },
   "file_extension": ".py",
   "mimetype": "text/x-python",
   "name": "python",
   "nbconvert_exporter": "python",
   "pygments_lexer": "ipython3",
   "version": "3.9.16"
  },
  "orig_nbformat": 4
 },
 "nbformat": 4,
 "nbformat_minor": 2
}
